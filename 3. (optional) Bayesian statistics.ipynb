{
 "cells": [
  {
   "cell_type": "code",
   "execution_count": 1,
   "metadata": {},
   "outputs": [],
   "source": [
    "%matplotlib inline\n",
    "import pandas as pd\n",
    "import seaborn\n",
    "import matplotlib.pyplot as plt\n",
    "import numpy as np\n",
    "import pymc as pm\n",
    "from numpy.random import randint, shuffle, choice"
   ]
  },
  {
   "cell_type": "markdown",
   "metadata": {},
   "source": [
    "## Bayesian way of coin toss\n",
    "\n",
    "We will talk about Bayesian approach later, but I think this is a good place to show what this method is capable of."
   ]
  },
  {
   "cell_type": "code",
   "execution_count": 2,
   "metadata": {},
   "outputs": [
    {
     "name": "stdout",
     "output_type": "stream",
     "text": [
      " [-----------------100%-----------------] 50000 of 50000 complete in 2.7 sec"
     ]
    },
    {
     "data": {
      "image/png": "[encoded data removed]",
      "text/plain": [
       "<Figure size 432x288 with 1 Axes>"
      ]
     },
     "metadata": {
      "needs_background": "light"
     },
     "output_type": "display_data"
    }
   ],
   "source": [
    "data = [0,0,0,0,0,0,0,0,0,0,0,0,0,0,0,1,1]\n",
    "\n",
    "toss = pm.Uniform('toss', lower=0, upper=1)\n",
    "coin = pm.Bernoulli('coin', p=toss, value=data, observed=True)\n",
    "mcmc = pm.MCMC([toss, coin])\n",
    "mcmc.sample(50000, 1000)\n",
    "plt.hist(mcmc.trace(\"toss\")[:], bins = 20)\n",
    "plt.show()"
   ]
  },
  {
   "cell_type": "markdown",
   "metadata": {},
   "source": [
    "# A/B Testing\n",
    "\n",
    "Let's say that we have following obervations:\n",
    "\n",
    "* In target group 20 customers churned from 500.\n",
    "* In control group 70 customers churned from 1000.\n",
    "\n",
    "Is this significant impact?\n",
    "\n",
    "Shuffling might be usefull in this case."
   ]
  },
  {
   "cell_type": "code",
   "execution_count": 3,
   "metadata": {},
   "outputs": [
    {
     "name": "stdout",
     "output_type": "stream",
     "text": [
      " [-----------------100%-----------------] 50000 of 50000 complete in 5.7 sec"
     ]
    }
   ],
   "source": [
    "target = np.append(np.zeros(480), np.ones(20))\n",
    "control = np.append(np.zeros(930), np.ones(70))\n",
    "\n",
    "target_conv = pm.Uniform('target_conv', lower=0, upper=1)\n",
    "control_conv = pm.Uniform('control_conv', lower=0, upper=1)\n",
    "\n",
    "@pm.deterministic\n",
    "def delta(target_conv=target_conv, control_conv=control_conv):\n",
    "    return control_conv - target_conv\n",
    "\n",
    "target_obs = pm.Bernoulli(\"target_obs\", target_conv, value = target, observed = True)\n",
    "control_obs = pm.Bernoulli(\"control_obs\", control_conv, value = control, observed = True)\n",
    "\n",
    "mcmc = pm.MCMC([target_conv, control_conv, delta, target_obs, control_obs])\n",
    "mcmc.sample(50000, 1000)"
   ]
  },
  {
   "cell_type": "code",
   "execution_count": 4,
   "metadata": {},
   "outputs": [
    {
     "data": {
      "image/png": "[encoded data removed]",
      "text/plain": [
       "<Figure size 432x288 with 1 Axes>"
      ]
     },
     "metadata": {
      "needs_background": "light"
     },
     "output_type": "display_data"
    }
   ],
   "source": [
    "plt.hist(mcmc.trace(\"target_conv\")[:], bins = 20, color = 'red')\n",
    "plt.hist(mcmc.trace(\"control_conv\")[:], bins = 20)\n",
    "plt.show()"
   ]
  },
  {
   "cell_type": "code",
   "execution_count": 5,
   "metadata": {},
   "outputs": [
    {
     "data": {
      "image/png": "[encoded data removed]",
      "text/plain": [
       "<Figure size 432x288 with 1 Axes>"
      ]
     },
     "metadata": {
      "needs_background": "light"
     },
     "output_type": "display_data"
    }
   ],
   "source": [
    "plt.hist(mcmc.trace(\"delta\")[:], bins = 20)\n",
    "plt.show()"
   ]
  },
  {
   "cell_type": "code",
   "execution_count": 6,
   "metadata": {},
   "outputs": [
    {
     "data": {
      "text/plain": [
       "0.010836734693877552"
      ]
     },
     "execution_count": 6,
     "metadata": {},
     "output_type": "execute_result"
    }
   ],
   "source": [
    "np.mean(mcmc.trace(\"delta\")[:] < 0)"
   ]
  },
  {
   "cell_type": "markdown",
   "metadata": {},
   "source": [
    "## Shuffling vs. Bayesian way\n",
    "\n",
    "Let's see what happens if we take smaller numbers."
   ]
  },
  {
   "cell_type": "code",
   "execution_count": 7,
   "metadata": {},
   "outputs": [
    {
     "name": "stdout",
     "output_type": "stream",
     "text": [
      "Impact on churn rate: -0.003\n"
     ]
    },
    {
     "name": "stderr",
     "output_type": "stream",
     "text": [
      "/home/trokas/anaconda3/envs/ai_primer/lib/python3.6/site-packages/matplotlib/axes/_axes.py:6521: MatplotlibDeprecationWarning: \n",
      "The 'normed' kwarg was deprecated in Matplotlib 2.1 and will be removed in 3.1. Use 'density' instead.\n",
      "  alternative=\"'density'\", removal=\"3.1\")\n"
     ]
    },
    {
     "data": {
      "image/png": "[encoded data removed]",
      "text/plain": [
       "<Figure size 432x288 with 1 Axes>"
      ]
     },
     "metadata": {
      "needs_background": "light"
     },
     "output_type": "display_data"
    },
    {
     "name": "stdout",
     "output_type": "stream",
     "text": [
      "Probability that this is due to random event: 14.4730%\n"
     ]
    }
   ],
   "source": [
    "target = np.append(np.zeros(498), np.ones(2))\n",
    "control = np.append(np.zeros(993), np.ones(7))\n",
    "\n",
    "data = np.append(target, control)\n",
    "split = target.shape[0]\n",
    "expected = np.sum(target)/target.shape[0] - np.sum(control)/control.shape[0]\n",
    "print(\"Impact on churn rate: {0}\".format(expected))\n",
    "rates = np.array([])\n",
    "for _ in range(100000):\n",
    "    permuted = np.random.permutation(data)\n",
    "    rates = np.append(rates, np.sum(permuted[split:])/permuted[split:].shape[0] - np.sum(permuted[:split])/split)\n",
    "plt.hist(rates, bins = 20, normed = True)\n",
    "plt.axvline(x = expected, color = 'red')\n",
    "plt.show()\n",
    "print('Probability that this is due to random event: {:.4%}'.format(np.mean(rates < expected)))"
   ]
  },
  {
   "cell_type": "code",
   "execution_count": 8,
   "metadata": {},
   "outputs": [
    {
     "name": "stdout",
     "output_type": "stream",
     "text": [
      " [-----------------100%-----------------] 50000 of 50000 complete in 5.1 sec"
     ]
    },
    {
     "data": {
      "image/png": "[encoded data removed]",
      "text/plain": [
       "<Figure size 432x288 with 1 Axes>"
      ]
     },
     "metadata": {
      "needs_background": "light"
     },
     "output_type": "display_data"
    },
    {
     "name": "stdout",
     "output_type": "stream",
     "text": [
      "0.2873061224489796\n"
     ]
    }
   ],
   "source": [
    "target_conv = pm.Uniform('target_conv', lower=0, upper=1)\n",
    "control_conv = pm.Uniform('control_conv', lower=0, upper=1)\n",
    "@pm.deterministic\n",
    "def delta(target_conv=target_conv, control_conv=control_conv):\n",
    "    return control_conv - target_conv\n",
    "target_obs = pm.Bernoulli(\"target_obs\", target_conv, value = target, observed = True)\n",
    "control_obs = pm.Bernoulli(\"control_obs\", control_conv, value = control, observed = True)\n",
    "mcmc = pm.MCMC([target_conv, control_conv, delta, target_obs, control_obs])\n",
    "mcmc.sample(50000, 1000)\n",
    "plt.hist(mcmc.trace(\"delta\")[:], bins = 20)\n",
    "plt.show()\n",
    "print(np.mean(mcmc.trace(\"delta\")[:] < 0))"
   ]
  },
  {
   "cell_type": "markdown",
   "metadata": {},
   "source": [
    "It is easy to see that shuffling yelds same results as pymc, but it takes longer to perform simulations and results are less reliable. **Note that red line resembles zero in pyms plots.**"
   ]
  }
 ],
 "metadata": {
  "kernelspec": {
   "display_name": "Python 3",
   "language": "python",
   "name": "python3"
  },
  "language_info": {
   "codemirror_mode": {
    "name": "ipython",
    "version": 3
   },
   "file_extension": ".py",
   "mimetype": "text/x-python",
   "name": "python",
   "nbconvert_exporter": "python",
   "pygments_lexer": "ipython3",
   "version": "3.6.8"
  }
 },
 "nbformat": 4,
 "nbformat_minor": 1
}
