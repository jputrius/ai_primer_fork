{
 "cells": [
  {
   "cell_type": "code",
   "execution_count": 1,
   "metadata": {},
   "outputs": [],
   "source": [
    "%matplotlib inline\n",
    "import pandas as pd\n",
    "import seaborn\n",
    "import matplotlib.pyplot as plt\n",
    "import numpy as np\n",
    "import imageio\n",
    "from numpy.random import randint, shuffle, choice"
   ]
  },
  {
   "cell_type": "markdown",
   "metadata": {},
   "source": [
    "# Simulation based statistics with real life applications\n",
    "\n",
    "Sources:\n",
    "\n",
    "* [Talk by Jake VanderPlas](https://www.youtube.com/watch?v=Iq9DzN6mvYA)\n",
    "* [Slides by Jake VanderPlas](https://speakerdeck.com/jakevdp/statistics-for-hackers)\n",
    "* [RANDOM PERMUTATION TESTS](http://danielnee.com/2015/01/random-permutation-tests/)\n",
    "* [Statistics Without the Agonizing Pain](https://www.youtube.com/watch?v=5Dnw46eC-0o)\n",
    "* Book \"Statistics is Easy\" 2nd ed, Dennis Shasha and Manda Wilson\n",
    "\n",
    "Main methods covered in this notebook:\n",
    "\n",
    "1. **Direct simulations**\n",
    "2. **Shuffling**\n",
    "3. **Bootstrapping**\n",
    "4. **Cross Validation**\n",
    "\n",
    "Real-life applications:\n",
    "\n",
    "1. Statistical tests\n",
    "2. A/B Testing\n",
    "3. ML model evaluation\n",
    "4. ... "
   ]
  },
  {
   "cell_type": "markdown",
   "metadata": {},
   "source": [
    "# Hypothesis testing: Coin toss\n",
    "\n",
    "We will start with the simplest task possible - coin toss.\n",
    "\n",
    "**TASK:** Coin tossed 17 times produced 2 tails. Is it fair?\n",
    "\n",
    "## Classic Method\n",
    "\n",
    "$$\n",
    "P\\left(N_{H},N_{T}\\right)=\\left(\\begin{array}{c}\n",
    "N_{H}+N_{T}\\\\\n",
    "N_{H}\n",
    "\\end{array}\\right)\\left(\\frac{1}{2}\\right)^{N_{H}}\\left(1-\\frac{1}{2}\\right)^{N_{T}}\n",
    "$$\n",
    "\n",
    "## Using direct simulation\n",
    "\n",
    "We can solve this easily using direct simulation as follows."
   ]
  },
  {
   "cell_type": "code",
   "execution_count": 7,
   "metadata": {},
   "outputs": [],
   "source": [
    "n_exp = 10000000\n",
    "data = np.sum(np.random.randint(0, 2, size=[17, n_exp]), axis=0)"
   ]
  },
  {
   "cell_type": "code",
   "execution_count": 8,
   "metadata": {},
   "outputs": [
    {
     "name": "stderr",
     "output_type": "stream",
     "text": [
      "/home/trokas/anaconda3/envs/ai_primer/lib/python3.7/site-packages/matplotlib/axes/_axes.py:6521: MatplotlibDeprecationWarning: \n",
      "The 'normed' kwarg was deprecated in Matplotlib 2.1 and will be removed in 3.1. Use 'density' instead.\n",
      "  alternative=\"'density'\", removal=\"3.1\")\n"
     ]
    },
    {
     "data": {
      "image/png": "[encoded data removed]",
      "text/plain": [
       "<Figure size 432x288 with 1 Axes>"
      ]
     },
     "metadata": {
      "needs_background": "light"
     },
     "output_type": "display_data"
    }
   ],
   "source": [
    "plt.hist(data, bins=18, normed = True)\n",
    "plt.axvline(x = 2, color = 'red')\n",
    "plt.show()"
   ]
  },
  {
   "cell_type": "code",
   "execution_count": 9,
   "metadata": {},
   "outputs": [
    {
     "name": "stdout",
     "output_type": "stream",
     "text": [
      "Probability according to simulation: 0.1053%\n"
     ]
    }
   ],
   "source": [
    "print('Probability according to simulation: {:.4%}'.format(np.mean(data == 2)))"
   ]
  },
  {
   "cell_type": "markdown",
   "metadata": {},
   "source": [
    "Acctual probability is 0.103759765625%. Note that making more simulations yeld more reliable results than making multiple small simulations.\n",
    "\n",
    "**Tip:** use numpy matrix to make calculations faster. For more complex simulations *numba* might be handy."
   ]
  },
  {
   "cell_type": "markdown",
   "metadata": {},
   "source": [
    "# Shuffling: Placebo vs Drug\n",
    "\n",
    "Lets say, that after performing experiment we obtained following measurements:\n",
    "\n",
    "* Placebo: 54 51 58 44 55 52 42 47 58 46\n",
    "* Drug: 54 73 53 70 73 68 52 65 65\n",
    "\n",
    "**Problem:** is this drug useful?\n",
    "\n",
    "What is probability that assigning labels on random will lead to such mean difference."
   ]
  },
  {
   "cell_type": "code",
   "execution_count": 11,
   "metadata": {},
   "outputs": [
    {
     "name": "stdout",
     "output_type": "stream",
     "text": [
      "Impact on means: 12.966666666666661\n"
     ]
    }
   ],
   "source": [
    "placebo = np.array([54,51,58,44,55,52,42,47,58,46])\n",
    "drug = np.array([54,73,53,70,73,68,52,65,65])\n",
    "data = np.append(placebo, drug)\n",
    "p_len = placebo.shape[0]\n",
    "expected = drug.mean() - placebo.mean()\n",
    "print(\"Impact on means: {0}\".format(expected))"
   ]
  },
  {
   "cell_type": "code",
   "execution_count": 12,
   "metadata": {},
   "outputs": [],
   "source": [
    "means = np.array([])\n",
    "for _ in range(100000):\n",
    "    permuted = np.random.permutation(data)\n",
    "    means = np.append(means, permuted[p_len:].mean() - permuted[:p_len].mean())"
   ]
  },
  {
   "cell_type": "code",
   "execution_count": 13,
   "metadata": {},
   "outputs": [
    {
     "name": "stderr",
     "output_type": "stream",
     "text": [
      "/home/trokas/anaconda3/envs/ai_primer/lib/python3.7/site-packages/matplotlib/axes/_axes.py:6521: MatplotlibDeprecationWarning: \n",
      "The 'normed' kwarg was deprecated in Matplotlib 2.1 and will be removed in 3.1. Use 'density' instead.\n",
      "  alternative=\"'density'\", removal=\"3.1\")\n"
     ]
    },
    {
     "data": {
      "image/png": "[encoded data removed]",
      "text/plain": [
       "<Figure size 432x288 with 1 Axes>"
      ]
     },
     "metadata": {
      "needs_background": "light"
     },
     "output_type": "display_data"
    }
   ],
   "source": [
    "plt.hist(means, bins = 20, normed = True)\n",
    "plt.axvline(x = expected, color = 'red')\n",
    "plt.show()"
   ]
  },
  {
   "cell_type": "code",
   "execution_count": 14,
   "metadata": {},
   "outputs": [
    {
     "name": "stdout",
     "output_type": "stream",
     "text": [
      "Probability that this is due to random event: 0.0780%\n"
     ]
    }
   ],
   "source": [
    "print('Probability that this is due to random event: {:.4%}'.format(np.mean(means >= expected)))"
   ]
  },
  {
   "cell_type": "markdown",
   "metadata": {},
   "source": [
    "This means that there is only 0.1% chance that such difference have been observed randomly.\n",
    "Another example:\n",
    "* Placebo 56 348 162 420 440 250 389 476 288 456 \n",
    "* Drug +13"
   ]
  },
  {
   "cell_type": "code",
   "execution_count": 15,
   "metadata": {},
   "outputs": [
    {
     "name": "stdout",
     "output_type": "stream",
     "text": [
      "Impact on means: 13.0\n"
     ]
    },
    {
     "name": "stderr",
     "output_type": "stream",
     "text": [
      "/home/trokas/anaconda3/envs/ai_primer/lib/python3.7/site-packages/matplotlib/axes/_axes.py:6521: MatplotlibDeprecationWarning: \n",
      "The 'normed' kwarg was deprecated in Matplotlib 2.1 and will be removed in 3.1. Use 'density' instead.\n",
      "  alternative=\"'density'\", removal=\"3.1\")\n"
     ]
    },
    {
     "data": {
      "image/png": "[encoded data removed]",
      "text/plain": [
       "<Figure size 432x288 with 1 Axes>"
      ]
     },
     "metadata": {
      "needs_background": "light"
     },
     "output_type": "display_data"
    },
    {
     "name": "stdout",
     "output_type": "stream",
     "text": [
      "Probability that this is due to random event: 42.1670%\n"
     ]
    }
   ],
   "source": [
    "placebo = np.array([56,348,162,420,440,250,389,476,288,456])\n",
    "drug = placebo + 13\n",
    "data = np.append(placebo, drug)\n",
    "p_len = placebo.shape[0]\n",
    "expected = drug.mean() - placebo.mean()\n",
    "print(\"Impact on means: {0}\".format(expected))\n",
    "means = np.array([])\n",
    "for _ in range(100000):\n",
    "    permuted = np.random.permutation(data)\n",
    "    means = np.append(means, permuted[p_len:].mean() - permuted[:p_len].mean())\n",
    "plt.hist(means, bins = 20, normed = True)\n",
    "plt.axvline(x = expected, color = 'red')\n",
    "plt.show()\n",
    "print('Probability that this is due to random event: {:.4%}'.format(np.mean(means >= expected)))"
   ]
  },
  {
   "cell_type": "markdown",
   "metadata": {},
   "source": [
    "Note that **Significance** does not tell about **effect**!"
   ]
  },
  {
   "cell_type": "markdown",
   "metadata": {},
   "source": [
    "# A/B Testing\n",
    "\n",
    "Let's say that we have following obervations:\n",
    "\n",
    "* In target group 20 customers churned from 500.\n",
    "* In control group 70 customers churned from 1000.\n",
    "\n",
    "Is this significant impact?\n",
    "\n",
    "Shuffling might be usefull in this case."
   ]
  },
  {
   "cell_type": "code",
   "execution_count": 16,
   "metadata": {},
   "outputs": [
    {
     "name": "stdout",
     "output_type": "stream",
     "text": [
      "Impact on churn rate: -0.030000000000000006\n"
     ]
    },
    {
     "name": "stderr",
     "output_type": "stream",
     "text": [
      "/home/trokas/anaconda3/envs/ai_primer/lib/python3.7/site-packages/matplotlib/axes/_axes.py:6521: MatplotlibDeprecationWarning: \n",
      "The 'normed' kwarg was deprecated in Matplotlib 2.1 and will be removed in 3.1. Use 'density' instead.\n",
      "  alternative=\"'density'\", removal=\"3.1\")\n"
     ]
    },
    {
     "data": {
      "image/png": "[encoded data removed]",
      "text/plain": [
       "<Figure size 432x288 with 1 Axes>"
      ]
     },
     "metadata": {
      "needs_background": "light"
     },
     "output_type": "display_data"
    },
    {
     "name": "stdout",
     "output_type": "stream",
     "text": [
      "Probability that this is due to random event: 0.9080%\n"
     ]
    }
   ],
   "source": [
    "target = np.append(np.zeros(480), np.ones(20))\n",
    "control = np.append(np.zeros(930), np.ones(70))\n",
    "data = np.append(target, control)\n",
    "split = target.shape[0]\n",
    "expected = np.sum(target)/target.shape[0] - np.sum(control)/control.shape[0]\n",
    "print(\"Impact on churn rate: {0}\".format(expected))\n",
    "rates = np.array([])\n",
    "for _ in range(100000):\n",
    "    permuted = np.random.permutation(data)\n",
    "    rates = np.append(rates, np.sum(permuted[split:])/permuted[split:].shape[0] - np.sum(permuted[:split])/split)\n",
    "plt.hist(rates, bins = 20, normed = True)\n",
    "plt.axvline(x = expected, color = 'red')\n",
    "plt.show()\n",
    "print('Probability that this is due to random event: {:.4%}'.format(np.mean(rates < expected)))"
   ]
  },
  {
   "cell_type": "markdown",
   "metadata": {},
   "source": [
    "# Boostrapping\n",
    "\n",
    "“What is the 90% confidence interval of difference in the averages\n",
    "between the drug patients and placebo?”\n",
    "\n",
    "Bootstrapping - simulate distribution by drawing random samples with replacement."
   ]
  },
  {
   "cell_type": "code",
   "execution_count": 26,
   "metadata": {},
   "outputs": [],
   "source": [
    "df = pd.DataFrame()\n",
    "df['score'] = [54,51,58,44,55,52,42,47,58,46,54,73,53,70,73,68,52,65,65]\n",
    "df['label'] = ['D' if s<10 else 'P' for s in range(19)]"
   ]
  },
  {
   "cell_type": "code",
   "execution_count": 27,
   "metadata": {},
   "outputs": [],
   "source": [
    "evaluation = pd.DataFrame()\n",
    "evaluation['rand'] = np.array([choice(df[df.label == 'P']['score'].values, 10).mean() - \n",
    "        choice(df[df.label == 'D']['score'].values, 10).mean() for _ in range(10000)])"
   ]
  },
  {
   "cell_type": "code",
   "execution_count": 28,
   "metadata": {},
   "outputs": [
    {
     "data": {
      "text/plain": [
       "<matplotlib.axes._subplots.AxesSubplot at 0x7f3b6b6c35f8>"
      ]
     },
     "execution_count": 28,
     "metadata": {},
     "output_type": "execute_result"
    },
    {
     "data": {
      "image/png": "[encoded data removed]",
      "text/plain": [
       "<Figure size 432x288 with 1 Axes>"
      ]
     },
     "metadata": {
      "needs_background": "light"
     },
     "output_type": "display_data"
    }
   ],
   "source": [
    "evaluation['rand'].hist(bins = 50)"
   ]
  },
  {
   "cell_type": "code",
   "execution_count": 29,
   "metadata": {},
   "outputs": [
    {
     "data": {
      "text/plain": [
       "0.05     7.900\n",
       "0.95    17.905\n",
       "Name: rand, dtype: float64"
      ]
     },
     "execution_count": 29,
     "metadata": {},
     "output_type": "execute_result"
    }
   ],
   "source": [
    "evaluation['rand'].quantile([0.05, 0.95])"
   ]
  },
  {
   "cell_type": "markdown",
   "metadata": {},
   "source": [
    "This means that 90% of the time Drug will give average value higher than Placebo in range 7.9, 18.\n",
    "\n",
    "Next example consists of incomes."
   ]
  },
  {
   "cell_type": "code",
   "execution_count": 30,
   "metadata": {},
   "outputs": [],
   "source": [
    "df = pd.DataFrame()\n",
    "df['incomes'] = [200,69,141,45,154,169,142,198,178,197,1000000,166,188,178,129,87,151,101,187,154]"
   ]
  },
  {
   "cell_type": "code",
   "execution_count": 31,
   "metadata": {},
   "outputs": [
    {
     "data": {
      "text/plain": [
       "<matplotlib.axes._subplots.AxesSubplot at 0x7f3b6b3f7710>"
      ]
     },
     "execution_count": 31,
     "metadata": {},
     "output_type": "execute_result"
    },
    {
     "data": {
      "image/png": "[encoded data removed]",
      "text/plain": [
       "<Figure size 432x288 with 1 Axes>"
      ]
     },
     "metadata": {
      "needs_background": "light"
     },
     "output_type": "display_data"
    }
   ],
   "source": [
    "evaluation = pd.DataFrame()\n",
    "evaluation['rand'] = np.array([choice(df['incomes'].values, df.shape[0]).mean() for _ in range(100000)])\n",
    "evaluation['rand'].hist(bins = 20)"
   ]
  },
  {
   "cell_type": "code",
   "execution_count": 32,
   "metadata": {},
   "outputs": [
    {
     "data": {
      "text/plain": [
       "0.05       138.45\n",
       "0.95    150125.80\n",
       "Name: rand, dtype: float64"
      ]
     },
     "execution_count": 32,
     "metadata": {},
     "output_type": "execute_result"
    }
   ],
   "source": [
    "evaluation['rand'].quantile([0.05, 0.95])"
   ]
  },
  {
   "cell_type": "markdown",
   "metadata": {},
   "source": [
    "Note that this is a huge range of values, thus we can say that average is uninformative in such case!"
   ]
  },
  {
   "cell_type": "markdown",
   "metadata": {},
   "source": [
    "If you’ve been following this carefully, you might now wonder “If I have a confidence interval,\n",
    "what more does significance bring to the party?” To answer this intuitively, consider a simple\n",
    "example in which you have just one element of group A having value 50 and one element of group\n",
    "B having value 40. The confidence interval using replacement will say that the difference is always 10. \n",
    "But intuitively this is way too little data. The significance test (in which one permutes the group\n",
    "labels) will show that half the time one will get, just by random chance, a difference as big as the\n",
    "observed one. "
   ]
  },
  {
   "cell_type": "markdown",
   "metadata": {
    "collapsed": true
   },
   "source": [
    "## Cross validation\n",
    "\n",
    "This is core idea which we will use for model evaluation nearly each time. "
   ]
  },
  {
   "cell_type": "code",
   "execution_count": 108,
   "metadata": {},
   "outputs": [
    {
     "data": {
      "image/png": "[encoded data removed]",
      "text/plain": [
       "<Figure size 432x288 with 1 Axes>"
      ]
     },
     "metadata": {
      "needs_background": "light"
     },
     "output_type": "display_data"
    }
   ],
   "source": [
    "x = np.random.rand(100)\n",
    "x.sort()\n",
    "y = x / 2 + 5 * x**2 + np.log(np.random.rand(100))/3\n",
    "plt.scatter(x,y)\n",
    "plt.show()"
   ]
  },
  {
   "cell_type": "markdown",
   "metadata": {},
   "source": [
    "Let's fit couple of models."
   ]
  },
  {
   "cell_type": "code",
   "execution_count": 109,
   "metadata": {},
   "outputs": [
    {
     "data": {
      "image/png": "[encoded data removed]",
      "text/plain": [
       "<Figure size 432x288 with 1 Axes>"
      ]
     },
     "metadata": {
      "needs_background": "light"
     },
     "output_type": "display_data"
    }
   ],
   "source": [
    "f_line = np.poly1d(np.polyfit(x, y, 1))\n",
    "f_poly = np.poly1d(np.polyfit(x, y, 2))\n",
    "y_line = f_line(x)\n",
    "y_poly = f_poly(x)\n",
    "plt.scatter(x, y, color = 'grey')\n",
    "plt.plot(x, y_line, color = 'red')\n",
    "plt.plot(x, y_poly, color = 'blue')\n",
    "plt.show()"
   ]
  },
  {
   "cell_type": "markdown",
   "metadata": {},
   "source": [
    "Now we will randomly split data and in each run evaluate RMSE."
   ]
  },
  {
   "cell_type": "code",
   "execution_count": 113,
   "metadata": {},
   "outputs": [
    {
     "data": {
      "text/plain": [
       "<matplotlib.axes._subplots.AxesSubplot at 0x7f3b6b290588>"
      ]
     },
     "execution_count": 113,
     "metadata": {},
     "output_type": "execute_result"
    },
    {
     "data": {
      "image/png": "[encoded data removed]",
      "text/plain": [
       "<Figure size 432x288 with 1 Axes>"
      ]
     },
     "metadata": {
      "needs_background": "light"
     },
     "output_type": "display_data"
    }
   ],
   "source": [
    "mask = np.random.rand(x.shape[0]) > 0.5\n",
    "\n",
    "L = []\n",
    "for degree in range(1, 10):\n",
    "    E = []   # storage for errors\n",
    "    CV = []   # storage for cross validated errors\n",
    "    for _ in range(1000):    # let's make it more robust\n",
    "        # fit using mask\n",
    "        f = np.poly1d(np.polyfit(x[mask], y[mask], degree))\n",
    "        # evaluate on masked dataset\n",
    "        E.append(np.mean((f(x[mask]) - y[mask])**2))\n",
    "        CV.append(np.mean((f(x[~mask]) - y[~mask])**2))\n",
    "    L.append([degree, np.mean(E), np.mean(CV)])\n",
    "\n",
    "df = pd.DataFrame(L, columns=['degree', 'RMSE', 'CV RMSE']).set_index('degree')\n",
    "df.plot()"
   ]
  },
  {
   "cell_type": "markdown",
   "metadata": {},
   "source": [
    "# Gradient descent\n",
    "\n",
    "We have observed that simple simulations can solve complex problems. We will see now how we can apply this paradigm for optimization problems."
   ]
  },
  {
   "cell_type": "code",
   "execution_count": 2,
   "metadata": {},
   "outputs": [
    {
     "data": {
      "image/png": "[encoded data removed]",
      "text/plain": [
       "<Figure size 432x288 with 1 Axes>"
      ]
     },
     "metadata": {
      "needs_background": "light"
     },
     "output_type": "display_data"
    }
   ],
   "source": [
    "np.random.seed(42)\n",
    "x = np.random.rand(100)\n",
    "x.sort()\n",
    "y = x / 2 + np.log(np.random.rand(100))/10 + 10\n",
    "plt.scatter(x,y)\n",
    "plt.show()"
   ]
  },
  {
   "cell_type": "code",
   "execution_count": 6,
   "metadata": {},
   "outputs": [
    {
     "name": "stdout",
     "output_type": "stream",
     "text": [
      "Obtained parameters: k = 0.5271, b = 9.8882\n"
     ]
    }
   ],
   "source": [
    "k, b = 0, 0     # initial values\n",
    "epochs = 1000\n",
    "learning_rate = 0.1\n",
    "\n",
    "L = []   # storage for k and b through training\n",
    "for i in range(epochs):\n",
    "    pred = k * x + b\n",
    "    L.append([k, b])\n",
    "    pred_diff_k = x\n",
    "    pred_diff_b = 1\n",
    "    k += 2 * learning_rate * np.mean(pred_diff_k * (y - pred))\n",
    "    b += 2 * learning_rate * np.mean(pred_diff_b * (y - pred))\n",
    "\n",
    "print('Obtained parameters: k = {0:.04f}, b = {1:.04f}'.format(k, b))"
   ]
  },
  {
   "cell_type": "code",
   "execution_count": 7,
   "metadata": {},
   "outputs": [
    {
     "name": "stdout",
     "output_type": "stream",
     "text": [
      "Exact solution: k = 0.5271, b = 9.8882\n"
     ]
    }
   ],
   "source": [
    "print('Exact solution: k = {0:.04f}, b = {1:.04f}'.format(*np.polyfit(x, y, 1)))"
   ]
  },
  {
   "cell_type": "code",
   "execution_count": 8,
   "metadata": {},
   "outputs": [],
   "source": [
    "images = []\n",
    "for i in range(epochs)[::10]:\n",
    "    f_line = np.poly1d(L[i])\n",
    "    plt.scatter(x, y, color = 'grey')\n",
    "    plt.title('k = {0:.04f}, b = {1:.04f}'.format(*L[i]))\n",
    "    plt.plot(x, f_line(x), color = 'red')\n",
    "    plt.ylim(9.25, 10.75)\n",
    "    plt.savefig('img/grad_desc/{0}.jpg'.format(i))\n",
    "    images.append(imageio.imread('img/grad_desc/{0}.jpg'.format(i)))\n",
    "    plt.close()\n",
    "\n",
    "imageio.mimsave('img/grad_desc_demo.gif', images, duration=0.1)"
   ]
  },
  {
   "cell_type": "markdown",
   "metadata": {},
   "source": [
    "![Gradient descent demo](img/grad_desc_demo.gif)"
   ]
  },
  {
   "cell_type": "markdown",
   "metadata": {},
   "source": [
    "This principle will be used throughout the course and is main ingredients of neural net models!"
   ]
  }
 ],
 "metadata": {
  "kernelspec": {
   "display_name": "Python 3",
   "language": "python",
   "name": "python3"
  },
  "language_info": {
   "codemirror_mode": {
    "name": "ipython",
    "version": 3
   },
   "file_extension": ".py",
   "mimetype": "text/x-python",
   "name": "python",
   "nbconvert_exporter": "python",
   "pygments_lexer": "ipython3",
   "version": "3.6.8"
  }
 },
 "nbformat": 4,
 "nbformat_minor": 1
}
