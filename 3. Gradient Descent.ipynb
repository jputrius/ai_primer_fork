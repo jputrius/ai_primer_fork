{
 "cells": [
  {
   "cell_type": "code",
   "execution_count": 2,
   "metadata": {},
   "outputs": [],
   "source": [
    "%matplotlib inline\n",
    "import pandas as pd\n",
    "import seaborn\n",
    "import matplotlib.pyplot as plt\n",
    "import numpy as np\n",
    "import imageio\n",
    "from numpy.random import randint, shuffle, choice"
   ]
  },
  {
   "cell_type": "markdown",
   "metadata": {},
   "source": [
    "# Gradient descent\n",
    "\n",
    "We have observed that simple simulations can solve complex problems. We will see now how we can apply this paradigm for optimization problems."
   ]
  },
  {
   "cell_type": "code",
   "execution_count": 2,
   "metadata": {},
   "outputs": [
    {
     "data": {
      "image/png": "[encoded data removed]",
      "text/plain": [
       "<Figure size 432x288 with 1 Axes>"
      ]
     },
     "metadata": {
      "needs_background": "light"
     },
     "output_type": "display_data"
    }
   ],
   "source": [
    "np.random.seed(42)\n",
    "x = np.random.rand(100)\n",
    "x.sort()\n",
    "y = x / 2 + np.log(np.random.rand(100))/10 + 10\n",
    "plt.scatter(x,y)\n",
    "plt.show()"
   ]
  },
  {
   "cell_type": "code",
   "execution_count": 3,
   "metadata": {},
   "outputs": [
    {
     "name": "stdout",
     "output_type": "stream",
     "text": [
      "Obtained parameters: k = 0.5271, b = 9.8882\n"
     ]
    }
   ],
   "source": [
    "k, b = 0, 0     # initial values\n",
    "epochs = 1000\n",
    "learning_rate = 0.1\n",
    "\n",
    "L = []   # storage for k and b through training\n",
    "for i in range(epochs):\n",
    "    pred = k * x + b\n",
    "    L.append([k, b])\n",
    "    pred_diff_k = x\n",
    "    pred_diff_b = 1\n",
    "    k += 2 * learning_rate * np.mean(pred_diff_k * (y - pred))\n",
    "    b += 2 * learning_rate * np.mean(pred_diff_b * (y - pred))\n",
    "\n",
    "print('Obtained parameters: k = {0:.04f}, b = {1:.04f}'.format(k, b))"
   ]
  },
  {
   "cell_type": "code",
   "execution_count": 4,
   "metadata": {},
   "outputs": [
    {
     "name": "stdout",
     "output_type": "stream",
     "text": [
      "Exact solution: k = 0.5271, b = 9.8882\n"
     ]
    }
   ],
   "source": [
    "print('Exact solution: k = {0:.04f}, b = {1:.04f}'.format(*np.polyfit(x, y, 1)))"
   ]
  },
  {
   "cell_type": "code",
   "execution_count": 5,
   "metadata": {},
   "outputs": [],
   "source": [
    "# images = []\n",
    "# for i in range(epochs)[::10]:\n",
    "#     f_line = np.poly1d(L[i])\n",
    "#     plt.scatter(x, y, color = 'grey')\n",
    "#     plt.title('k = {0:.04f}, b = {1:.04f}'.format(*L[i]))\n",
    "#     plt.plot(x, f_line(x), color = 'red')\n",
    "#     plt.ylim(9.25, 10.75)\n",
    "#     plt.savefig('img/grad_desc/{0}.jpg'.format(i))\n",
    "#     images.append(imageio.imread('img/grad_desc/{0}.jpg'.format(i)))\n",
    "#     plt.close()\n",
    "\n",
    "# imageio.mimsave('img/grad_desc_demo.gif', images, duration=0.1)"
   ]
  },
  {
   "cell_type": "markdown",
   "metadata": {},
   "source": [
    "![Gradient descent demo](img/grad_desc_demo.gif)"
   ]
  },
  {
   "cell_type": "markdown",
   "metadata": {},
   "source": [
    "This principle will be used throughout the course and is main ingredients of neural net models!"
   ]
  },
  {
   "cell_type": "markdown",
   "metadata": {},
   "source": [
    "## Task 1. Use GD to fit 2nd degree polynomial\n",
    "\n",
    "Fiven following data implement GD from scratch to fit 2nd degree polynomial to the following dataset:"
   ]
  },
  {
   "cell_type": "code",
   "execution_count": 3,
   "metadata": {},
   "outputs": [
    {
     "data": {
      "text/plain": [
       "<matplotlib.collections.PathCollection at 0x7f853fbfbe10>"
      ]
     },
     "execution_count": 3,
     "metadata": {},
     "output_type": "execute_result"
    },
    {
     "data": {
      "image/png": "[encoded data removed]",
      "text/plain": [
       "<Figure size 432x288 with 1 Axes>"
      ]
     },
     "metadata": {
      "needs_background": "light"
     },
     "output_type": "display_data"
    }
   ],
   "source": [
    "x = np.linspace(0, 1, 100)\n",
    "y = x / 2 + 5 * x**2 + np.log(np.random.rand(100))/3\n",
    "plt.scatter(x, y)"
   ]
  },
  {
   "cell_type": "code",
   "execution_count": 31,
   "metadata": {},
   "outputs": [
    {
     "name": "stdout",
     "output_type": "stream",
     "text": [
      "a = 3.1515, b = 2.5559, c = -0.8025\n"
     ]
    },
    {
     "data": {
      "image/png": "[encoded data removed]",
      "text/plain": [
       "<Figure size 432x288 with 1 Axes>"
      ]
     },
     "metadata": {
      "needs_background": "light"
     },
     "output_type": "display_data"
    }
   ],
   "source": [
    "a, b, c = 0, 0, 0     # initial values\n",
    "epochs = 200\n",
    "learning_rate = 0.2\n",
    "\n",
    "rmse = []   # list to store RMSE while training\n",
    "for _ in range(epochs):\n",
    "    pred = a * x**2 + b * x + c\n",
    "    rmse.append(np.sqrt(np.mean((pred - y)**2)))\n",
    "    a -= learning_rate * np.mean((pred - y) * x**2)\n",
    "    b -= learning_rate * np.mean((pred - y) * x)\n",
    "    c -= learning_rate * np.mean((pred - y))\n",
    "\n",
    "print(f'a = {a:.04f}, b = {b:.04f}, c = {c:.04f}')\n",
    "plt.plot(rmse)\n",
    "plt.show()"
   ]
  },
  {
   "cell_type": "code",
   "execution_count": 29,
   "metadata": {},
   "outputs": [
    {
     "data": {
      "text/plain": [
       "[<matplotlib.lines.Line2D at 0x7f853db7d668>]"
      ]
     },
     "execution_count": 29,
     "metadata": {},
     "output_type": "execute_result"
    },
    {
     "data": {
      "image/png": "[encoded data removed]",
      "text/plain": [
       "<Figure size 432x288 with 1 Axes>"
      ]
     },
     "metadata": {
      "needs_background": "light"
     },
     "output_type": "display_data"
    }
   ],
   "source": [
    "plt.scatter(x, y)\n",
    "pred = a * x**2 + b * x + c\n",
    "plt.plot(x, pred, c='red', linewidth=5)"
   ]
  },
  {
   "cell_type": "markdown",
   "metadata": {},
   "source": [
    "## Task 2. GD for Boston dataset\n",
    "\n",
    "Use gradient descent to fit linear regression to Boston dataset.\n",
    "\n",
    "*Hint:* use np.array to represent regression weights. This trick will be useful `np.hstack([X, np.ones((len(X), 1))])`."
   ]
  },
  {
   "cell_type": "code",
   "execution_count": 125,
   "metadata": {},
   "outputs": [],
   "source": [
    "from sklearn.datasets import load_boston\n",
    "\n",
    "boston = load_boston()\n",
    "X = boston.data\n",
    "y = boston.target\n",
    "\n",
    "X = np.hstack([X, np.ones((len(X), 1))])"
   ]
  },
  {
   "cell_type": "code",
   "execution_count": 134,
   "metadata": {},
   "outputs": [],
   "source": [
    "epochs = 10000\n",
    "learning_rate = 0.0000001\n",
    "\n",
    "# Initial weights\n",
    "beta = np.zeros(14)\n",
    "\n",
    "# Run epochs\n",
    "for _ in range(epochs):\n",
    "    pred = X.dot(beta)\n",
    "    # For each epoch update weights beta\n",
    "    beta -= learning_rate * X.T.dot(pred - y) / m"
   ]
  },
  {
   "cell_type": "markdown",
   "metadata": {},
   "source": [
    "### Mini task. Apply standard scaler before GD"
   ]
  },
  {
   "cell_type": "code",
   "execution_count": 136,
   "metadata": {},
   "outputs": [],
   "source": [
    "X = boston.data\n",
    "y = boston.target\n",
    "\n",
    "# Standard scaler\n",
    "X = (X - np.mean(X)) / np.std(X)\n",
    "\n",
    "X = np.hstack([X, np.ones((len(X), 1))])"
   ]
  },
  {
   "cell_type": "code",
   "execution_count": 137,
   "metadata": {},
   "outputs": [
    {
     "data": {
      "text/plain": [
       "[<matplotlib.lines.Line2D at 0x7f85377dee48>]"
      ]
     },
     "execution_count": 137,
     "metadata": {},
     "output_type": "execute_result"
    },
    {
     "data": {
      "image/png": "[encoded data removed]",
      "text/plain": [
       "<Figure size 432x288 with 1 Axes>"
      ]
     },
     "metadata": {
      "needs_background": "light"
     },
     "output_type": "display_data"
    }
   ],
   "source": [
    "epochs = 100\n",
    "learning_rate = 0.002\n",
    "\n",
    "# Initial weights\n",
    "m = 14\n",
    "beta = np.zeros(m)\n",
    "\n",
    "# Run epochs\n",
    "rmse = []\n",
    "for _ in range(epochs):\n",
    "    pred = X.dot(beta)\n",
    "    rmse.append(np.sqrt(np.mean((y - pred)**2)))\n",
    "    # For each epoch update weights beta\n",
    "    beta -= learning_rate * X.T.dot(pred - y) / m\n",
    "\n",
    "plt.plot(rmse)"
   ]
  },
  {
   "cell_type": "markdown",
   "metadata": {},
   "source": [
    "### How to use GD from sklearn"
   ]
  },
  {
   "cell_type": "code",
   "execution_count": 138,
   "metadata": {},
   "outputs": [],
   "source": [
    "from sklearn.linear_model import SGDRegressor"
   ]
  },
  {
   "cell_type": "code",
   "execution_count": 154,
   "metadata": {},
   "outputs": [],
   "source": [
    "lr = SGDRegressor()"
   ]
  },
  {
   "cell_type": "code",
   "execution_count": 155,
   "metadata": {},
   "outputs": [
    {
     "data": {
      "text/plain": [
       "SGDRegressor(alpha=0.0001, average=False, early_stopping=False, epsilon=0.1,\n",
       "             eta0=0.01, fit_intercept=True, l1_ratio=0.15,\n",
       "             learning_rate='invscaling', loss='squared_loss', max_iter=1000,\n",
       "             n_iter_no_change=5, penalty='l2', power_t=0.25, random_state=None,\n",
       "             shuffle=True, tol=0.001, validation_fraction=0.1, verbose=0,\n",
       "             warm_start=False)"
      ]
     },
     "execution_count": 155,
     "metadata": {},
     "output_type": "execute_result"
    }
   ],
   "source": [
    "lr.fit(X, y)"
   ]
  },
  {
   "cell_type": "code",
   "execution_count": null,
   "metadata": {},
   "outputs": [],
   "source": []
  }
 ],
 "metadata": {
  "kernelspec": {
   "display_name": "Python 3",
   "language": "python",
   "name": "python3"
  },
  "language_info": {
   "codemirror_mode": {
    "name": "ipython",
    "version": 3
   },
   "file_extension": ".py",
   "mimetype": "text/x-python",
   "name": "python",
   "nbconvert_exporter": "python",
   "pygments_lexer": "ipython3",
   "version": "3.6.8"
  }
 },
 "nbformat": 4,
 "nbformat_minor": 1
}
