{
 "cells": [
  {
   "cell_type": "code",
   "execution_count": 1,
   "metadata": {},
   "outputs": [],
   "source": [
    "%matplotlib inline\n",
    "import pandas as pd\n",
    "import seaborn\n",
    "import matplotlib.pyplot as plt\n",
    "import numpy as np\n",
    "from numpy.random import randint, shuffle, choice"
   ]
  },
  {
   "cell_type": "markdown",
   "metadata": {},
   "source": [
    "# Simulation based statistics with real life applications\n",
    "\n",
    "Sources:\n",
    "\n",
    "* [Talk by Jake VanderPlas](https://www.youtube.com/watch?v=Iq9DzN6mvYA)\n",
    "* [Slides by Jake VanderPlas](https://speakerdeck.com/jakevdp/statistics-for-hackers)\n",
    "* [RANDOM PERMUTATION TESTS](http://danielnee.com/2015/01/random-permutation-tests/)\n",
    "* [Statistics Without the Agonizing Pain](https://www.youtube.com/watch?v=5Dnw46eC-0o)\n",
    "* Book \"Statistics is Easy\" 2nd ed, Dennis Shasha and Manda Wilson\n",
    "\n",
    "\n",
    "Might be usefull: [Fishers test](https://pypi.python.org/pypi/permutation_test/0.16)\n",
    "\n",
    "\n",
    "Main methods covered in this notebook:\n",
    "\n",
    "1. **Direct simulations**\n",
    "2. **Shuffling**\n",
    "3. **Bootstrapping**\n",
    "4. **Cross Validation**\n",
    "\n",
    "Real-life applications:\n",
    "\n",
    "1. A/B Testing\n",
    "2. ...\n",
    "\n"
   ]
  },
  {
   "cell_type": "markdown",
   "metadata": {},
   "source": [
    "# Hypothesis testing: Coin toss\n",
    "\n",
    "We will start with the simplest task possible - coin toss.\n",
    "\n",
    "**TASK:** Coin tossed 17 times produced 2 tails. Is it fair?\n",
    "\n",
    "## Classic Method\n",
    "\n",
    "$$\n",
    "P\\left(N_{H},N_{T}\\right)=\\left(\\begin{array}{c}\n",
    "N_{H}+N_{T}\\\\\n",
    "N_{H}\n",
    "\\end{array}\\right)\\left(\\frac{1}{2}\\right)^{N_{H}}\\left(1-\\frac{1}{2}\\right)^{N_{T}}\n",
    "$$\n",
    "\n",
    "## Using direct simulation\n",
    "\n",
    "We can solve this easily using direct simulation as follows."
   ]
  },
  {
   "cell_type": "code",
   "execution_count": 2,
   "metadata": {},
   "outputs": [],
   "source": [
    "n_exp = 10000000\n",
    "data = np.sum(np.random.randint(0, 2, size=[17, n_exp]), axis=0)"
   ]
  },
  {
   "cell_type": "code",
   "execution_count": 3,
   "metadata": {},
   "outputs": [
    {
     "name": "stderr",
     "output_type": "stream",
     "text": [
      "/home/trokas/anaconda3/envs/ai_primer/lib/python3.7/site-packages/matplotlib/axes/_axes.py:6521: MatplotlibDeprecationWarning: \n",
      "The 'normed' kwarg was deprecated in Matplotlib 2.1 and will be removed in 3.1. Use 'density' instead.\n",
      "  alternative=\"'density'\", removal=\"3.1\")\n"
     ]
    },
    {
     "data": {
      "image/png": "[encoded data removed]",
      "text/plain": [
       "<Figure size 432x288 with 1 Axes>"
      ]
     },
     "metadata": {
      "needs_background": "light"
     },
     "output_type": "display_data"
    }
   ],
   "source": [
    "plt.hist(data, bins=18, normed = True)\n",
    "plt.axvline(x = 2, color = 'red')\n",
    "plt.show()"
   ]
  },
  {
   "cell_type": "code",
   "execution_count": 4,
   "metadata": {},
   "outputs": [
    {
     "name": "stdout",
     "output_type": "stream",
     "text": [
      "Probability according to simulation: 0.1048%\n"
     ]
    }
   ],
   "source": [
    "print('Probability according to simulation: {:.4%}'.format(np.mean(data == 2)))"
   ]
  },
  {
   "cell_type": "markdown",
   "metadata": {},
   "source": [
    "Acctual probability is 0.103759765625%. Note that making more simulations yeld more reliable results than making multiple small simulations.\n",
    "\n",
    "**Tip:** use numpy matrix to make calculations faster. For more complex simulations *numba* might be handy."
   ]
  },
  {
   "cell_type": "markdown",
   "metadata": {},
   "source": [
    "## Make pymc toss a coin\n",
    "\n",
    "Let's cheat a bit and say that we don't know anything about coins."
   ]
  },
  {
   "cell_type": "code",
   "execution_count": 5,
   "metadata": {},
   "outputs": [
    {
     "ename": "NameError",
     "evalue": "name 'pm' is not defined",
     "output_type": "error",
     "traceback": [
      "\u001b[0;31m---------------------------------------------------------------------------\u001b[0m",
      "\u001b[0;31mNameError\u001b[0m                                 Traceback (most recent call last)",
      "\u001b[0;32m<ipython-input-5-60a082c4ba4f>\u001b[0m in \u001b[0;36m<module>\u001b[0;34m\u001b[0m\n\u001b[1;32m      1\u001b[0m \u001b[0mdata\u001b[0m \u001b[0;34m=\u001b[0m \u001b[0;34m[\u001b[0m\u001b[0;36m0\u001b[0m\u001b[0;34m,\u001b[0m\u001b[0;36m0\u001b[0m\u001b[0;34m,\u001b[0m\u001b[0;36m0\u001b[0m\u001b[0;34m,\u001b[0m\u001b[0;36m0\u001b[0m\u001b[0;34m,\u001b[0m\u001b[0;36m0\u001b[0m\u001b[0;34m,\u001b[0m\u001b[0;36m0\u001b[0m\u001b[0;34m,\u001b[0m\u001b[0;36m0\u001b[0m\u001b[0;34m,\u001b[0m\u001b[0;36m0\u001b[0m\u001b[0;34m,\u001b[0m\u001b[0;36m0\u001b[0m\u001b[0;34m,\u001b[0m\u001b[0;36m0\u001b[0m\u001b[0;34m,\u001b[0m\u001b[0;36m0\u001b[0m\u001b[0;34m,\u001b[0m\u001b[0;36m0\u001b[0m\u001b[0;34m,\u001b[0m\u001b[0;36m0\u001b[0m\u001b[0;34m,\u001b[0m\u001b[0;36m0\u001b[0m\u001b[0;34m,\u001b[0m\u001b[0;36m0\u001b[0m\u001b[0;34m,\u001b[0m\u001b[0;36m1\u001b[0m\u001b[0;34m,\u001b[0m\u001b[0;36m1\u001b[0m\u001b[0;34m]\u001b[0m\u001b[0;34m\u001b[0m\u001b[0;34m\u001b[0m\u001b[0m\n\u001b[0;32m----> 2\u001b[0;31m \u001b[0mtoss\u001b[0m \u001b[0;34m=\u001b[0m \u001b[0mpm\u001b[0m\u001b[0;34m.\u001b[0m\u001b[0mUniform\u001b[0m\u001b[0;34m(\u001b[0m\u001b[0;34m'toss'\u001b[0m\u001b[0;34m,\u001b[0m \u001b[0mlower\u001b[0m\u001b[0;34m=\u001b[0m\u001b[0;36m0\u001b[0m\u001b[0;34m,\u001b[0m \u001b[0mupper\u001b[0m\u001b[0;34m=\u001b[0m\u001b[0;36m1\u001b[0m\u001b[0;34m)\u001b[0m\u001b[0;34m\u001b[0m\u001b[0;34m\u001b[0m\u001b[0m\n\u001b[0m\u001b[1;32m      3\u001b[0m \u001b[0mcoin\u001b[0m \u001b[0;34m=\u001b[0m \u001b[0mpm\u001b[0m\u001b[0;34m.\u001b[0m\u001b[0mBernoulli\u001b[0m\u001b[0;34m(\u001b[0m\u001b[0;34m'coin'\u001b[0m\u001b[0;34m,\u001b[0m \u001b[0mp\u001b[0m\u001b[0;34m=\u001b[0m\u001b[0mtoss\u001b[0m\u001b[0;34m,\u001b[0m \u001b[0mvalue\u001b[0m\u001b[0;34m=\u001b[0m\u001b[0mdata\u001b[0m\u001b[0;34m,\u001b[0m \u001b[0mobserved\u001b[0m\u001b[0;34m=\u001b[0m\u001b[0;32mTrue\u001b[0m\u001b[0;34m)\u001b[0m\u001b[0;34m\u001b[0m\u001b[0;34m\u001b[0m\u001b[0m\n\u001b[1;32m      4\u001b[0m \u001b[0mmcmc\u001b[0m \u001b[0;34m=\u001b[0m \u001b[0mpm\u001b[0m\u001b[0;34m.\u001b[0m\u001b[0mMCMC\u001b[0m\u001b[0;34m(\u001b[0m\u001b[0;34m[\u001b[0m\u001b[0mtoss\u001b[0m\u001b[0;34m,\u001b[0m \u001b[0mcoin\u001b[0m\u001b[0;34m]\u001b[0m\u001b[0;34m)\u001b[0m\u001b[0;34m\u001b[0m\u001b[0;34m\u001b[0m\u001b[0m\n\u001b[1;32m      5\u001b[0m \u001b[0mmcmc\u001b[0m\u001b[0;34m.\u001b[0m\u001b[0msample\u001b[0m\u001b[0;34m(\u001b[0m\u001b[0;36m50000\u001b[0m\u001b[0;34m,\u001b[0m \u001b[0;36m1000\u001b[0m\u001b[0;34m)\u001b[0m\u001b[0;34m\u001b[0m\u001b[0;34m\u001b[0m\u001b[0m\n",
      "\u001b[0;31mNameError\u001b[0m: name 'pm' is not defined"
     ]
    }
   ],
   "source": [
    "data = [0,0,0,0,0,0,0,0,0,0,0,0,0,0,0,1,1]\n",
    "toss = pm.Uniform('toss', lower=0, upper=1)\n",
    "coin = pm.Bernoulli('coin', p=toss, value=data, observed=True)\n",
    "mcmc = pm.MCMC([toss, coin])\n",
    "mcmc.sample(50000, 1000)\n",
    "plt.hist(mcmc.trace(\"toss\")[:], bins = 20)\n",
    "plt.show()"
   ]
  },
  {
   "cell_type": "markdown",
   "metadata": {},
   "source": [
    "# Shuffling: Placebo vs Drug\n",
    "\n",
    "Lets say, that after performing experiment we obtained following measurements:\n",
    "\n",
    "* Placebo: 54 51 58 44 55 52 42 47 58 46\n",
    "* Drug: 54 73 53 70 73 68 52 65 65\n",
    "\n",
    "**Problem:** is this drug useful?\n",
    "\n",
    "What is probability that assigning labels on random will lead to such mean difference."
   ]
  },
  {
   "cell_type": "code",
   "execution_count": 6,
   "metadata": {},
   "outputs": [
    {
     "name": "stdout",
     "output_type": "stream",
     "text": [
      "Impact on means: 12.966666666666661\n"
     ]
    }
   ],
   "source": [
    "placebo = np.array([54,51,58,44,55,52,42,47,58,46])\n",
    "drug = np.array([54,73,53,70,73,68,52,65,65])\n",
    "data = np.append(placebo, drug)\n",
    "p_len = placebo.shape[0]\n",
    "expected = drug.mean() - placebo.mean()\n",
    "print(\"Impact on means: {0}\".format(expected))"
   ]
  },
  {
   "cell_type": "code",
   "execution_count": 7,
   "metadata": {},
   "outputs": [],
   "source": [
    "means = np.array([])\n",
    "for _ in range(100000):\n",
    "    permuted = np.random.permutation(data)\n",
    "    means = np.append(means, permuted[p_len:].mean() - permuted[:p_len].mean())"
   ]
  },
  {
   "cell_type": "code",
   "execution_count": 8,
   "metadata": {},
   "outputs": [
    {
     "name": "stderr",
     "output_type": "stream",
     "text": [
      "/home/trokas/anaconda3/envs/ai_primer/lib/python3.7/site-packages/matplotlib/axes/_axes.py:6521: MatplotlibDeprecationWarning: \n",
      "The 'normed' kwarg was deprecated in Matplotlib 2.1 and will be removed in 3.1. Use 'density' instead.\n",
      "  alternative=\"'density'\", removal=\"3.1\")\n"
     ]
    },
    {
     "data": {
      "image/png": "[encoded data removed]",
      "text/plain": [
       "<Figure size 432x288 with 1 Axes>"
      ]
     },
     "metadata": {
      "needs_background": "light"
     },
     "output_type": "display_data"
    }
   ],
   "source": [
    "plt.hist(means, bins = 20, normed = True)\n",
    "plt.axvline(x = expected, color = 'red')\n",
    "plt.show()"
   ]
  },
  {
   "cell_type": "code",
   "execution_count": 9,
   "metadata": {},
   "outputs": [
    {
     "name": "stdout",
     "output_type": "stream",
     "text": [
      "Probability that this is due to random event: 0.0910%\n"
     ]
    }
   ],
   "source": [
    "print('Probability that this is due to random event: {:.4%}'.format(np.mean(means >= expected)))"
   ]
  },
  {
   "cell_type": "markdown",
   "metadata": {},
   "source": [
    "This means that there is only 0.1% chance that such difference have been observed randomly.\n",
    "Another example:\n",
    "* Placebo 56 348 162 420 440 250 389 476 288 456 \n",
    "* Drug +13"
   ]
  },
  {
   "cell_type": "code",
   "execution_count": 10,
   "metadata": {},
   "outputs": [
    {
     "name": "stdout",
     "output_type": "stream",
     "text": [
      "Impact on means: 13.0\n"
     ]
    },
    {
     "name": "stderr",
     "output_type": "stream",
     "text": [
      "/home/trokas/anaconda3/envs/ai_primer/lib/python3.7/site-packages/matplotlib/axes/_axes.py:6521: MatplotlibDeprecationWarning: \n",
      "The 'normed' kwarg was deprecated in Matplotlib 2.1 and will be removed in 3.1. Use 'density' instead.\n",
      "  alternative=\"'density'\", removal=\"3.1\")\n"
     ]
    },
    {
     "data": {
      "image/png": "[encoded data removed]",
      "text/plain": [
       "<Figure size 432x288 with 1 Axes>"
      ]
     },
     "metadata": {
      "needs_background": "light"
     },
     "output_type": "display_data"
    },
    {
     "name": "stdout",
     "output_type": "stream",
     "text": [
      "Probability that this is due to random event: 41.9310%\n"
     ]
    }
   ],
   "source": [
    "placebo = np.array([56,348,162,420,440,250,389,476,288,456])\n",
    "drug = placebo + 13\n",
    "data = np.append(placebo, drug)\n",
    "p_len = placebo.shape[0]\n",
    "expected = drug.mean() - placebo.mean()\n",
    "print(\"Impact on means: {0}\".format(expected))\n",
    "means = np.array([])\n",
    "for _ in range(100000):\n",
    "    permuted = np.random.permutation(data)\n",
    "    means = np.append(means, permuted[p_len:].mean() - permuted[:p_len].mean())\n",
    "plt.hist(means, bins = 20, normed = True)\n",
    "plt.axvline(x = expected, color = 'red')\n",
    "plt.show()\n",
    "print('Probability that this is due to random event: {:.4%}'.format(np.mean(means >= expected)))"
   ]
  },
  {
   "cell_type": "markdown",
   "metadata": {},
   "source": [
    "Note that **Significance** does not tell about **effect**!"
   ]
  },
  {
   "cell_type": "markdown",
   "metadata": {},
   "source": [
    "# A/B Testing\n",
    "\n",
    "Let's say that we have following obervations:\n",
    "\n",
    "* In target group 20 customers churned from 500.\n",
    "* In control group 70 customers churned from 1000.\n",
    "\n",
    "Is this significant impact?\n",
    "\n",
    "Shuffling might be usefull in this case."
   ]
  },
  {
   "cell_type": "code",
   "execution_count": 51,
   "metadata": {},
   "outputs": [
    {
     "name": "stdout",
     "output_type": "stream",
     "text": [
      "Impact on churn rate: -0.030000000000000006\n"
     ]
    },
    {
     "data": {
      "image/png": "[encoded data removed]",
      "text/plain": [
       "<matplotlib.figure.Figure at 0x1f01fe95e10>"
      ]
     },
     "metadata": {},
     "output_type": "display_data"
    },
    {
     "name": "stdout",
     "output_type": "stream",
     "text": [
      "Probability that this is due to random event: 0.8540%\n"
     ]
    }
   ],
   "source": [
    "target = np.append(np.zeros(480), np.ones(20))\n",
    "control = np.append(np.zeros(930), np.ones(70))\n",
    "data = np.append(target, control)\n",
    "split = target.shape[0]\n",
    "expected = np.sum(target)/target.shape[0] - np.sum(control)/control.shape[0]\n",
    "print(\"Impact on churn rate: {0}\".format(expected))\n",
    "rates = np.array([])\n",
    "for _ in range(100000):\n",
    "    permuted = np.random.permutation(data)\n",
    "    rates = np.append(rates, np.sum(permuted[split:])/permuted[split:].shape[0] - np.sum(permuted[:split])/split)\n",
    "plt.hist(rates, bins = 20, normed = True)\n",
    "plt.axvline(x = expected, color = 'red')\n",
    "plt.show()\n",
    "print('Probability that this is due to random event: {:.4%}'.format(np.mean(rates < expected)))"
   ]
  },
  {
   "cell_type": "markdown",
   "metadata": {},
   "source": [
    "## A little bit of bayes"
   ]
  },
  {
   "cell_type": "code",
   "execution_count": 52,
   "metadata": {},
   "outputs": [],
   "source": [
    "import pymc as pm"
   ]
  },
  {
   "cell_type": "code",
   "execution_count": 53,
   "metadata": {},
   "outputs": [
    {
     "name": "stdout",
     "output_type": "stream",
     "text": [
      " [-----------------100%-----------------] 50000 of 50000 complete in 4.7 sec"
     ]
    }
   ],
   "source": [
    "target_conv = pm.Uniform('target_conv', lower=0, upper=1)\n",
    "control_conv = pm.Uniform('control_conv', lower=0, upper=1)\n",
    "\n",
    "@pm.deterministic\n",
    "def delta(target_conv=target_conv, control_conv=control_conv):\n",
    "    return control_conv - target_conv\n",
    "\n",
    "target_obs = pm.Bernoulli(\"target_obs\", target_conv, value = target, observed = True)\n",
    "control_obs = pm.Bernoulli(\"control_obs\", control_conv, value = control, observed = True)\n",
    "\n",
    "mcmc = pm.MCMC([target_conv, control_conv, delta, target_obs, control_obs])\n",
    "mcmc.sample(50000, 1000)"
   ]
  },
  {
   "cell_type": "code",
   "execution_count": 54,
   "metadata": {},
   "outputs": [
    {
     "data": {
      "image/png": "[encoded data removed]",
      "text/plain": [
       "<matplotlib.figure.Figure at 0x1f01fee0390>"
      ]
     },
     "metadata": {},
     "output_type": "display_data"
    }
   ],
   "source": [
    "plt.hist(mcmc.trace(\"target_conv\")[:], bins = 20, color = 'red')\n",
    "plt.hist(mcmc.trace(\"control_conv\")[:], bins = 20)\n",
    "plt.show()"
   ]
  },
  {
   "cell_type": "code",
   "execution_count": 55,
   "metadata": {},
   "outputs": [
    {
     "data": {
      "image/png": "[encoded data removed]",
      "text/plain": [
       "<matplotlib.figure.Figure at 0x1f01fee0320>"
      ]
     },
     "metadata": {},
     "output_type": "display_data"
    }
   ],
   "source": [
    "plt.hist(mcmc.trace(\"delta\")[:], bins = 20)\n",
    "plt.show()"
   ]
  },
  {
   "cell_type": "code",
   "execution_count": 56,
   "metadata": {},
   "outputs": [
    {
     "data": {
      "text/plain": [
       "0.0098163265306122453"
      ]
     },
     "execution_count": 56,
     "metadata": {},
     "output_type": "execute_result"
    }
   ],
   "source": [
    "np.mean(mcmc.trace(\"delta\")[:] < 0)"
   ]
  },
  {
   "cell_type": "markdown",
   "metadata": {},
   "source": [
    "Let's see what happens if we take smaller numbers."
   ]
  },
  {
   "cell_type": "code",
   "execution_count": 57,
   "metadata": {},
   "outputs": [
    {
     "name": "stdout",
     "output_type": "stream",
     "text": [
      "Impact on churn rate: -0.003\n"
     ]
    },
    {
     "data": {
      "image/png": "[encoded data removed]",
      "text/plain": [
       "<matplotlib.figure.Figure at 0x1f01feb37f0>"
      ]
     },
     "metadata": {},
     "output_type": "display_data"
    },
    {
     "name": "stdout",
     "output_type": "stream",
     "text": [
      "Probability that this is due to random event: 14.4180%\n"
     ]
    }
   ],
   "source": [
    "target = np.append(np.zeros(498), np.ones(2))\n",
    "control = np.append(np.zeros(993), np.ones(7))\n",
    "data = np.append(target, control)\n",
    "split = target.shape[0]\n",
    "expected = np.sum(target)/target.shape[0] - np.sum(control)/control.shape[0]\n",
    "print(\"Impact on churn rate: {0}\".format(expected))\n",
    "rates = np.array([])\n",
    "for _ in range(100000):\n",
    "    permuted = np.random.permutation(data)\n",
    "    rates = np.append(rates, np.sum(permuted[split:])/permuted[split:].shape[0] - np.sum(permuted[:split])/split)\n",
    "plt.hist(rates, bins = 20, normed = True)\n",
    "plt.axvline(x = expected, color = 'red')\n",
    "plt.show()\n",
    "print('Probability that this is due to random event: {:.4%}'.format(np.mean(rates < expected)))"
   ]
  },
  {
   "cell_type": "code",
   "execution_count": 58,
   "metadata": {},
   "outputs": [
    {
     "name": "stdout",
     "output_type": "stream",
     "text": [
      " [-----------------100%-----------------] 50000 of 50000 complete in 4.3 sec"
     ]
    },
    {
     "data": {
      "image/png": "[encoded data removed]",
      "text/plain": [
       "<matplotlib.figure.Figure at 0x1f01fee0160>"
      ]
     },
     "metadata": {},
     "output_type": "display_data"
    },
    {
     "name": "stdout",
     "output_type": "stream",
     "text": [
      "0.296653061224\n"
     ]
    }
   ],
   "source": [
    "target_conv = pm.Uniform('target_conv', lower=0, upper=1)\n",
    "control_conv = pm.Uniform('control_conv', lower=0, upper=1)\n",
    "@pm.deterministic\n",
    "def delta(target_conv=target_conv, control_conv=control_conv):\n",
    "    return control_conv - target_conv\n",
    "target_obs = pm.Bernoulli(\"target_obs\", target_conv, value = target, observed = True)\n",
    "control_obs = pm.Bernoulli(\"control_obs\", control_conv, value = control, observed = True)\n",
    "mcmc = pm.MCMC([target_conv, control_conv, delta, target_obs, control_obs])\n",
    "mcmc.sample(50000, 1000)\n",
    "plt.hist(mcmc.trace(\"delta\")[:], bins = 20)\n",
    "plt.show()\n",
    "print(np.mean(mcmc.trace(\"delta\")[:] < 0))"
   ]
  },
  {
   "cell_type": "markdown",
   "metadata": {},
   "source": [
    "It is easy to see that shuffling yelds same results as pymc, but it takes longer to perform simulations and results are less reliable. **Note that red line resembles zero in pyms plots.**"
   ]
  },
  {
   "cell_type": "markdown",
   "metadata": {},
   "source": [
    "# Boostrapping\n",
    "\n",
    "“What is the 90% confidence interval of difference in the averages\n",
    "between the drug patients and placebo?”\n",
    "\n",
    "Bootstrapping - simulate distribution by drawing random samples with replacement."
   ]
  },
  {
   "cell_type": "code",
   "execution_count": 130,
   "metadata": {
    "collapsed": true
   },
   "outputs": [],
   "source": [
    "df = pd.DataFrame()\n",
    "df['score'] = [54,51,58,44,55,52,42,47,58,46,54,73,53,70,73,68,52,65,65]\n",
    "df['label'] = ['D' if s<10 else 'P' for s in range(19)]"
   ]
  },
  {
   "cell_type": "code",
   "execution_count": null,
   "metadata": {},
   "outputs": [],
   "source": [
    "evaluation = pd.DataFrame()\n",
    "evaluation['rand'] = np.array([choice(df[df.label == 'P']['score'].values, 10).mean() - \n",
    "        choice(df[df.label == 'D']['score'].values, 10).mean() for _ in range(10000)])"
   ]
  },
  {
   "cell_type": "code",
   "execution_count": 139,
   "metadata": {},
   "outputs": [
    {
     "data": {
      "text/plain": [
       "<matplotlib.axes._subplots.AxesSubplot at 0x15f5eea41d0>"
      ]
     },
     "execution_count": 139,
     "metadata": {},
     "output_type": "execute_result"
    },
    {
     "data": {
      "image/png": "[encoded data removed]",
      "text/plain": [
       "<matplotlib.figure.Figure at 0x15f5f7a0ba8>"
      ]
     },
     "metadata": {},
     "output_type": "display_data"
    }
   ],
   "source": [
    "evaluation['rand'].hist(bins = 50)"
   ]
  },
  {
   "cell_type": "code",
   "execution_count": 143,
   "metadata": {},
   "outputs": [
    {
     "data": {
      "text/plain": [
       "0.05     7.9\n",
       "0.95    18.0\n",
       "Name: rand, dtype: float64"
      ]
     },
     "execution_count": 143,
     "metadata": {},
     "output_type": "execute_result"
    }
   ],
   "source": [
    "evaluation['rand'].quantile([0.05, 0.95])"
   ]
  },
  {
   "cell_type": "markdown",
   "metadata": {},
   "source": [
    "This means that 90% of the time Drug will give average value higher than Placebo in range 7.9, 18.\n",
    "\n",
    "Next example consists of incomes."
   ]
  },
  {
   "cell_type": "code",
   "execution_count": 156,
   "metadata": {
    "collapsed": true
   },
   "outputs": [],
   "source": [
    "df = pd.DataFrame()\n",
    "df['incomes'] = [200,69,141,45,154,169,142,198,178,197,1000000,166,188,178,129,87,151,101,187,154]"
   ]
  },
  {
   "cell_type": "code",
   "execution_count": 159,
   "metadata": {},
   "outputs": [
    {
     "data": {
      "text/plain": [
       "<matplotlib.axes._subplots.AxesSubplot at 0x15f5fbec5f8>"
      ]
     },
     "execution_count": 159,
     "metadata": {},
     "output_type": "execute_result"
    },
    {
     "data": {
      "image/png": "[encoded data removed]",
      "text/plain": [
       "<matplotlib.figure.Figure at 0x15f5fc95080>"
      ]
     },
     "metadata": {},
     "output_type": "display_data"
    }
   ],
   "source": [
    "evaluation = pd.DataFrame()\n",
    "evaluation['rand'] = np.array([choice(df['incomes'].values, df.shape[0]).mean() for _ in range(100000)])\n",
    "evaluation['rand'].hist()"
   ]
  },
  {
   "cell_type": "code",
   "execution_count": 160,
   "metadata": {},
   "outputs": [
    {
     "data": {
      "text/plain": [
       "0.05       138.45\n",
       "0.95    150125.90\n",
       "Name: rand, dtype: float64"
      ]
     },
     "execution_count": 160,
     "metadata": {},
     "output_type": "execute_result"
    }
   ],
   "source": [
    "evaluation['rand'].quantile([0.05, 0.95])"
   ]
  },
  {
   "cell_type": "markdown",
   "metadata": {},
   "source": [
    "Note that this is a huge range of values, thus we can say that average is uninformative in such case!"
   ]
  },
  {
   "cell_type": "markdown",
   "metadata": {},
   "source": [
    "If you’ve been following this carefully, you might now wonder “If I have a confidence interval,\n",
    "what more does significance bring to the party?” To answer this intuitively, consider a simple\n",
    "example in which you have just one element of group A having value 50 and one element of group\n",
    "B having value 40. The confidence interval using replacement will say that the difference is always 10. \n",
    "But intuitively this is way too little data. The significance test (in which one permutes the group\n",
    "labels) will show that half the time one will get, just by random chance, a difference as big as the\n",
    "observed one. "
   ]
  },
  {
   "cell_type": "markdown",
   "metadata": {
    "collapsed": true
   },
   "source": [
    "## Cross validation"
   ]
  },
  {
   "cell_type": "code",
   "execution_count": 92,
   "metadata": {},
   "outputs": [
    {
     "data": {
      "image/png": "[encoded data removed]",
      "text/plain": [
       "<matplotlib.figure.Figure at 0x1f01ffe90b8>"
      ]
     },
     "metadata": {},
     "output_type": "display_data"
    }
   ],
   "source": [
    "x = np.random.rand(100)\n",
    "y = x + np.log(np.random.rand(100))/3\n",
    "plt.scatter(x,y)\n",
    "plt.show()"
   ]
  },
  {
   "cell_type": "code",
   "execution_count": 96,
   "metadata": {},
   "outputs": [
    {
     "data": {
      "image/png": "[encoded data removed]",
      "text/plain": [
       "<matplotlib.figure.Figure at 0x1f0190a9898>"
      ]
     },
     "metadata": {},
     "output_type": "display_data"
    }
   ],
   "source": [
    "f = np.poly1d(np.polyfit(x, y, 1))\n",
    "x_line = np.linspace(x[0], x[-1], 50)\n",
    "y_line = f(x_line)\n",
    "plt.scatter(x,y)\n",
    "plt.plot(x_line, y_line, color = 'red')\n",
    "plt.show()"
   ]
  },
  {
   "cell_type": "code",
   "execution_count": null,
   "metadata": {
    "collapsed": true
   },
   "outputs": [],
   "source": []
  }
 ],
 "metadata": {
  "kernelspec": {
   "display_name": "Python 3",
   "language": "python",
   "name": "python3"
  },
  "language_info": {
   "codemirror_mode": {
    "name": "ipython",
    "version": 3
   },
   "file_extension": ".py",
   "mimetype": "text/x-python",
   "name": "python",
   "nbconvert_exporter": "python",
   "pygments_lexer": "ipython3",
   "version": "3.7.3"
  }
 },
 "nbformat": 4,
 "nbformat_minor": 1
}
